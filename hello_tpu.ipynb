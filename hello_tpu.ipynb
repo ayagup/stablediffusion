{
  "cells": [
    {
      "cell_type": "markdown",
      "metadata": {
        "id": "view-in-github",
        "colab_type": "text"
      },
      "source": [
        "<a href=\"https://colab.research.google.com/github/ayagup/stablediffusion/blob/main/hello_tpu.ipynb\" target=\"_parent\"><img src=\"https://colab.research.google.com/assets/colab-badge.svg\" alt=\"Open In Colab\"/></a>"
      ]
    },
    {
      "cell_type": "code",
      "source": [
        "import torch\n",
        "import torch_xla\n",
        "import torch_xla.core.xla_model as xm\n",
        "import torch_xla.distributed.parallel_loader as pl\n",
        "import torch_xla.runtime as xr\n",
        "import torch.nn as nn\n",
        "import torch.nn.functional as F\n",
        "import torch.optim as optim\n",
        "from torch.utils.data import DataLoader, TensorDataset\n",
        "import numpy as np\n",
        "\n"
      ],
      "metadata": {
        "id": "2468hQ-7XRrB"
      },
      "execution_count": 1,
      "outputs": []
    },
    {
      "cell_type": "code",
      "source": [
        "# Simple neural network model\n",
        "class SimpleNet(nn.Module):\n",
        "    def __init__(self, input_size=784, hidden_size=128, num_classes=10):\n",
        "        super(SimpleNet, self).__init__()\n",
        "        self.fc1 = nn.Linear(input_size, hidden_size)\n",
        "        self.fc2 = nn.Linear(hidden_size, hidden_size)\n",
        "        self.fc3 = nn.Linear(hidden_size, num_classes)\n",
        "        self.dropout = nn.Dropout(0.2)\n",
        "\n",
        "    def forward(self, x):\n",
        "        x = x.view(x.size(0), -1)  # Flatten\n",
        "        x = F.relu(self.fc1(x))\n",
        "        x = self.dropout(x)\n",
        "        x = F.relu(self.fc2(x))\n",
        "        x = self.dropout(x)\n",
        "        x = self.fc3(x)\n",
        "        return x\n"
      ],
      "metadata": {
        "id": "ENCteT4lXVvb"
      },
      "execution_count": 2,
      "outputs": []
    },
    {
      "cell_type": "code",
      "source": [
        "\n",
        "# Create synthetic dataset\n",
        "def create_synthetic_data(num_samples=1000, input_size=784, num_classes=10):\n",
        "    X = torch.randn(num_samples, input_size)\n",
        "    y = torch.randint(0, num_classes, (num_samples,))\n",
        "    return X, y\n"
      ],
      "metadata": {
        "id": "gVjEKbKnXXq6"
      },
      "execution_count": 3,
      "outputs": []
    },
    {
      "cell_type": "code",
      "source": [
        "\n",
        "# Fixed training function\n",
        "def train_model():\n",
        "    print(\"Creating synthetic dataset...\")\n",
        "    X_train, y_train = create_synthetic_data(num_samples=1000)\n",
        "    X_test, y_test = create_synthetic_data(num_samples=200)\n",
        "\n",
        "    # Create datasets and dataloaders\n",
        "    train_dataset = TensorDataset(X_train, y_train)\n",
        "    test_dataset = TensorDataset(X_test, y_test)\n",
        "\n",
        "    train_loader = DataLoader(train_dataset, batch_size=32, shuffle=True)\n",
        "    test_loader = DataLoader(test_dataset, batch_size=32, shuffle=False)\n",
        "\n",
        "    # Move data to TPU using parallel loader\n",
        "    device = xm.xla_device()\n",
        "    train_loader = pl.ParallelLoader(train_loader, [device])\n",
        "    test_loader = pl.ParallelLoader(test_loader, [device])\n",
        "\n",
        "    print(\"Initializing model...\")\n",
        "    model = SimpleNet().to(device)\n",
        "    criterion = nn.CrossEntropyLoss()\n",
        "    optimizer = optim.Adam(model.parameters(), lr=0.001)\n",
        "\n",
        "    print(\"Starting training...\")\n",
        "    num_epochs = 3\n",
        "\n",
        "    for epoch in range(num_epochs):\n",
        "        model.train()\n",
        "        epoch_loss = 0\n",
        "        epoch_correct = 0\n",
        "        epoch_total = 0\n",
        "        batch_count = 0\n",
        "\n",
        "        for batch_idx, (data, target) in enumerate(train_loader.per_device_loader(device)):\n",
        "            optimizer.zero_grad()\n",
        "            output = model(data)\n",
        "            loss = criterion(output, target)\n",
        "            loss.backward()\n",
        "\n",
        "            # Use XLA optimizer step\n",
        "            xm.optimizer_step(optimizer)\n",
        "\n",
        "            # Accumulate statistics\n",
        "            epoch_loss += loss.item()\n",
        "            _, predicted = torch.max(output.data, 1)\n",
        "            batch_total = target.size(0)\n",
        "            batch_correct = (predicted == target).sum().item()\n",
        "\n",
        "            epoch_total += batch_total\n",
        "            epoch_correct += batch_correct\n",
        "            batch_count += 1\n",
        "\n",
        "            if batch_idx % 10 == 0:\n",
        "                batch_acc = 100.0 * batch_correct / batch_total if batch_total > 0 else 0.0\n",
        "                print(f'Epoch {epoch+1}/{num_epochs}, Batch {batch_idx}, '\n",
        "                      f'Loss: {loss.item():.4f}, Batch Acc: {batch_acc:.2f}%')\n",
        "\n",
        "        # Print epoch results\n",
        "        avg_loss = epoch_loss / batch_count if batch_count > 0 else 0.0\n",
        "        accuracy = 100.0 * epoch_correct / epoch_total if epoch_total > 0 else 0.0\n",
        "        print(f'Epoch {epoch+1} completed - Avg Loss: {avg_loss:.4f}, Accuracy: {accuracy:.2f}%')\n",
        "\n",
        "        # Evaluation every epoch\n",
        "        model.eval()\n",
        "        test_correct = 0\n",
        "        test_total = 0\n",
        "        test_loss = 0\n",
        "        test_batches = 0\n",
        "\n",
        "        with torch.no_grad():\n",
        "            for data, target in test_loader.per_device_loader(device):\n",
        "                output = model(data)\n",
        "                test_loss += criterion(output, target).item()\n",
        "                _, predicted = torch.max(output.data, 1)\n",
        "                test_total += target.size(0)\n",
        "                test_correct += (predicted == target).sum().item()\n",
        "                test_batches += 1\n",
        "\n",
        "        if test_total > 0:\n",
        "            test_accuracy = 100.0 * test_correct / test_total\n",
        "            avg_test_loss = test_loss / test_batches if test_batches > 0 else 0.0\n",
        "            print(f'Test - Loss: {avg_test_loss:.4f}, Accuracy: {test_accuracy:.2f}%')\n",
        "\n",
        "        print(\"-\" * 50)\n",
        "\n",
        "    print(\"Training completed!\")\n",
        "    return model\n"
      ],
      "metadata": {
        "id": "h41ksPHUXZL6"
      },
      "execution_count": 4,
      "outputs": []
    },
    {
      "cell_type": "code",
      "source": [
        "\n",
        "# Test basic TPU operations\n",
        "def test_tpu_operations():\n",
        "    print(\"=== Testing Basic TPU Operations ===\")\n",
        "\n",
        "    device = xm.xla_device()\n",
        "    print(f\"Using device: {device}\")\n",
        "\n",
        "    # Basic tensor operations\n",
        "    x = torch.randn(3, 3, device=device)\n",
        "    y = torch.randn(3, 3, device=device)\n",
        "\n",
        "    print(f\"Created tensors on TPU\")\n",
        "\n",
        "    # Basic operations\n",
        "    z = x + y\n",
        "    print(f\"Addition successful, result shape: {z.shape}\")\n",
        "\n",
        "    # Matrix multiplication\n",
        "    a = torch.randn(4, 5, device=device)\n",
        "    b = torch.randn(5, 3, device=device)\n",
        "    c = torch.matmul(a, b)\n",
        "    print(f\"Matrix multiplication successful, result shape: {c.shape}\")\n",
        "\n",
        "    # Neural network layer test\n",
        "    linear = nn.Linear(10, 5).to(device)\n",
        "    input_tensor = torch.randn(8, 10, device=device)\n",
        "    output = linear(input_tensor)\n",
        "    print(f\"Neural network layer successful, output shape: {output.shape}\")\n",
        "\n",
        "    print(\"✓ All TPU operations work correctly!\")\n",
        "    print(\"=\" * 50)\n"
      ],
      "metadata": {
        "id": "noKwocK3XbS6"
      },
      "execution_count": 5,
      "outputs": []
    },
    {
      "cell_type": "code",
      "source": [
        "test_tpu_operations()"
      ],
      "metadata": {
        "id": "-hPvYQrzXeYS",
        "outputId": "58d90420-aca8-4de1-fad0-9b893a5aa186",
        "colab": {
          "base_uri": "https://localhost:8080/"
        }
      },
      "execution_count": 6,
      "outputs": [
        {
          "output_type": "stream",
          "name": "stdout",
          "text": [
            "=== Testing Basic TPU Operations ===\n",
            "Using device: xla:0\n",
            "Created tensors on TPU\n",
            "Addition successful, result shape: torch.Size([3, 3])\n",
            "Matrix multiplication successful, result shape: torch.Size([4, 3])\n",
            "Neural network layer successful, output shape: torch.Size([8, 5])\n",
            "✓ All TPU operations work correctly!\n",
            "==================================================\n"
          ]
        },
        {
          "output_type": "stream",
          "name": "stderr",
          "text": [
            "/tmp/ipython-input-3071682297.py:5: DeprecationWarning: Use torch_xla.device instead\n",
            "  device = xm.xla_device()\n"
          ]
        }
      ]
    },
    {
      "cell_type": "code",
      "source": [
        "trained_model = train_model()"
      ],
      "metadata": {
        "id": "1gXVyZmrXgDx",
        "outputId": "c780417a-2b68-4b75-8c18-4cfd83474e84",
        "colab": {
          "base_uri": "https://localhost:8080/"
        }
      },
      "execution_count": 7,
      "outputs": [
        {
          "output_type": "stream",
          "name": "stdout",
          "text": [
            "Creating synthetic dataset...\n",
            "Initializing model...\n",
            "Starting training...\n"
          ]
        },
        {
          "output_type": "stream",
          "name": "stderr",
          "text": [
            "/tmp/ipython-input-3131416405.py:15: DeprecationWarning: Use torch_xla.device instead\n",
            "  device = xm.xla_device()\n"
          ]
        },
        {
          "output_type": "stream",
          "name": "stdout",
          "text": [
            "Epoch 1/3, Batch 0, Loss: 2.3174, Batch Acc: 12.50%\n",
            "Epoch 1/3, Batch 10, Loss: 2.2902, Batch Acc: 15.62%\n",
            "Epoch 1/3, Batch 20, Loss: 2.2995, Batch Acc: 12.50%\n",
            "Epoch 1/3, Batch 30, Loss: 2.3156, Batch Acc: 12.50%\n",
            "Epoch 1 completed - Avg Loss: 2.3108, Accuracy: 10.40%\n",
            "Test - Loss: 2.3155, Accuracy: 7.50%\n",
            "--------------------------------------------------\n",
            "Epoch 2 completed - Avg Loss: 0.0000, Accuracy: 0.00%\n",
            "--------------------------------------------------\n",
            "Epoch 3 completed - Avg Loss: 0.0000, Accuracy: 0.00%\n",
            "--------------------------------------------------\n",
            "Training completed!\n"
          ]
        }
      ]
    },
    {
      "cell_type": "code",
      "source": [
        "device = xm.xla_device()\n",
        "test_input = torch.randn(1, 784, device=device)\n",
        "with torch.no_grad():\n",
        "    prediction = trained_model(test_input)\n",
        "    predicted_class = torch.argmax(prediction, dim=1)\n",
        "    print(f\"Sample prediction: class {predicted_class.item()}\")"
      ],
      "metadata": {
        "id": "ne369regXkfx",
        "outputId": "08ff4139-bfb9-48b9-ccf0-085287b05ac0",
        "colab": {
          "base_uri": "https://localhost:8080/"
        }
      },
      "execution_count": 8,
      "outputs": [
        {
          "output_type": "stream",
          "name": "stdout",
          "text": [
            "Sample prediction: class 6\n"
          ]
        },
        {
          "output_type": "stream",
          "name": "stderr",
          "text": [
            "/tmp/ipython-input-2459763473.py:1: DeprecationWarning: Use torch_xla.device instead\n",
            "  device = xm.xla_device()\n"
          ]
        }
      ]
    },
    {
      "cell_type": "code",
      "source": [
        "\n",
        "# Main execution\n",
        "if __name__ == \"__main__\":\n",
        "    try:\n",
        "        # Test basic operations first\n",
        "        test_tpu_operations()\n",
        "\n",
        "        # Train the model\n",
        "        print(\"\\n=== Starting Model Training ===\")\n",
        "        trained_model = train_model()\n",
        "\n",
        "        print(\"\\n✓ PyTorch TPU example completed successfully!\")\n",
        "\n",
        "        # Final test with the trained model\n",
        "        device = xm.xla_device()\n",
        "        test_input = torch.randn(1, 784, device=device)\n",
        "        with torch.no_grad():\n",
        "            prediction = trained_model(test_input)\n",
        "            predicted_class = torch.argmax(prediction, dim=1)\n",
        "            print(f\"Sample prediction: class {predicted_class.item()}\")\n",
        "\n",
        "    except Exception as e:\n",
        "        print(f\"Error: {e}\")\n",
        "        import traceback\n",
        "        traceback.print_exc()"
      ],
      "metadata": {
        "id": "tJxxQtCaXc0K"
      },
      "execution_count": null,
      "outputs": []
    }
  ],
  "metadata": {
    "colab": {
      "name": "Welcome To Colab",
      "toc_visible": true,
      "provenance": [],
      "gpuType": "V28",
      "include_colab_link": true
    },
    "kernelspec": {
      "display_name": "Python 3",
      "name": "python3"
    },
    "accelerator": "TPU"
  },
  "nbformat": 4,
  "nbformat_minor": 0
}